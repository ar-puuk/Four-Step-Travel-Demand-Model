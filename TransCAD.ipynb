{
 "cells": [
  {
   "cell_type": "code",
   "execution_count": 7,
   "id": "9fe9d8b6",
   "metadata": {},
   "outputs": [],
   "source": [
    "import os\n",
    "os.chdir(\"D:\\TransCAD_Lab_ Session\\Lab-7\")"
   ]
  },
  {
   "cell_type": "code",
   "execution_count": 8,
   "id": "6de9fd66",
   "metadata": {},
   "outputs": [],
   "source": [
    "import osmnx as ox"
   ]
  },
  {
   "cell_type": "code",
   "execution_count": 9,
   "id": "d556cbcc",
   "metadata": {},
   "outputs": [],
   "source": [
    "import geopandas as gpd\n",
    "from shapely.geometry import MultiPoint\n",
    "from collections import defaultdict\n",
    "import itertools"
   ]
  },
  {
   "cell_type": "code",
   "execution_count": 4,
   "id": "c0560875",
   "metadata": {},
   "outputs": [],
   "source": [
    "#  places = [\"Sacramento, California, USA\",\n",
    "# \"Elk Grove, California, USA\",\n",
    "# \"Roseville, California, USA\",\n",
    "# \"Citrus Heights, California, USA\",\n",
    "# \"Davis, California, USA\",\n",
    "# \"Rancho Cordova, California, USA\",\n",
    "# \"Rocklin, California, USA\",\n",
    "# \"West Sacramento, California, USA\",\n",
    "# \"Woodland, California, USA\",\n",
    "# \"Acampo, California, USA\",\n",
    "# \"Antelope, California, USA\",\n",
    "# \"Antioch, California, USA\",\n",
    "# \"Arbuckle, California, USA\",\n",
    "# \"Auburn, California, USA\",\n",
    "# \"Benicia, California, USA\",\n",
    "# \"Birds Landing, California, USA\",\n",
    "# \"Brooks, California, USA\",\n",
    "# \"Capay, California, USA\",\n",
    "# \"Carmichael, California, USA\",\n",
    "# \"Clarksburg, California, USA\",\n",
    "# \"Clearlake, California, USA\",\n",
    "# \"Colusa, California, USA\",\n",
    "# \"Courtland, California, USA\",\n",
    "# \"Dixon, California, USA\",\n",
    "# \"El Dorado Hills, California, USA\",\n",
    "# \"Elmira, California, USA\",\n",
    "# \"Elverta, California, USA\",\n",
    "# \"Esparto, California, USA\",\n",
    "# \"Fair Oaks, California, USA\",\n",
    "# \"Fairfield, California, USA\",\n",
    "# \"Folsom, California, USA\",\n",
    "# \"Granite Bay, California, USA\",\n",
    "# \"Guinda, California, USA\",\n",
    "# \"Herald, California, USA\",\n",
    "# \"Ione, California, USA\",\n",
    "# \"Isleton, California, USA\",\n",
    "# \"Knights Landing, California, USA\",\n",
    "# \"Lincoln, California, USA\",\n",
    "# \"Loomis, California, USA\",\n",
    "# \"Mather, California, USA\",\n",
    "# \"McClellan, California, USA\",\n",
    "# \"Napa, California, USA\",\n",
    "# \"Nicolaus, California, USA\",\n",
    "# \"North Highlands, California, USA\",\n",
    "# \"Olivehurst, California, USA\",\n",
    "# \"Orangevale, California, USA\",\n",
    "# \"Pilot Hill, California, USA\",\n",
    "# \"Pleasant Grove, California, USA\",\n",
    "# \"Rio Linda, California, USA\",\n",
    "# \"Walnut Grove, California, USA\",\n",
    "# \"Wilton, California, USA\",\n",
    "# \"Winters, California, USA\",\n",
    "# \"Zamora, California, USA\"\n",
    "# ]"
   ]
  },
  {
   "cell_type": "code",
   "execution_count": 10,
   "id": "8990d7f7",
   "metadata": {},
   "outputs": [
    {
     "name": "stderr",
     "output_type": "stream",
     "text": [
      "<ipython-input-10-575ebe8a1516>:27: UserWarning: Column names longer than 10 characters will be truncated when saved to ESRI Shapefile.\n",
      "  all_nodes.to_file('California.shp')\n"
     ]
    }
   ],
   "source": [
    "import osmnx as ox\n",
    "import pandas as pd\n",
    "\n",
    "places = [\"California, USA\"]\n",
    "# List to store nodes GeoDataFrames\n",
    "nodes_list = []\n",
    "\n",
    "for place in places:\n",
    "    try:\n",
    "        # Attempt to download the road network\n",
    "        network = ox.graph_from_place(place, network_type='drive')\n",
    "\n",
    "        # Extract nodes and ensure CRS is set\n",
    "        nodes = ox.graph_to_gdfs(network, nodes=True, edges=False)\n",
    "        nodes.crs = network.graph['crs']\n",
    "        \n",
    "        # Add to the list\n",
    "        nodes_list.append(nodes)\n",
    "    except Exception as e:\n",
    "        print(f\"Could not process {place}: {e}\")\n",
    "\n",
    "# Concatenate all nodes GeoDataFrames\n",
    "all_nodes = pd.concat(nodes_list, ignore_index=True) if nodes_list else pd.DataFrame()\n",
    "\n",
    "# Check if all_nodes is not empty before saving\n",
    "if not all_nodes.empty:\n",
    "    all_nodes.to_file('California.shp')\n",
    "else:\n",
    "    print(\"No data to save.\")\n",
    "\n"
   ]
  }
 ],
 "metadata": {
  "kernelspec": {
   "display_name": "Python 3",
   "language": "python",
   "name": "python3"
  },
  "language_info": {
   "codemirror_mode": {
    "name": "ipython",
    "version": 3
   },
   "file_extension": ".py",
   "mimetype": "text/x-python",
   "name": "python",
   "nbconvert_exporter": "python",
   "pygments_lexer": "ipython3",
   "version": "3.9.11"
  }
 },
 "nbformat": 4,
 "nbformat_minor": 5
}
